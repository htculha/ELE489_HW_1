#başlangıç; data, data frame imize yükleniyor. 

from sklearn.datasets import load_wine
import pandas as pd

wine = load_wine(as_frame=True)

# Özellikler ve hedef
X = wine.data
y = wine.target

# Birleştirilmiş DataFrame
df = pd.concat([X, y], axis=1)

print(df.head())


#bu kod, euclidean ve manhattan hesap dizilerini oluştuyor. 
import matplotlib.pyplot as plt

k_values = [1, 3, 5, 7, 9]
euclidean_accuracies = []
manhattan_accuracies = []

# Her k için iki metrikle hesapla
for k in k_values:
    # Euclidean
    y_pred_euc = []
    for i in range(len(X_test)):
        pred = knn_predict(X_train, y_train, X_test.iloc[i], k=k, distance_func=euclidean_distance)
        y_pred_euc.append(pred)
    acc_euc = accuracy_score(y_test, y_pred_euc)
    euclidean_accuracies.append(acc_euc)

    # Manhattan
    y_pred_man = []
    for i in range(len(X_test)):
        pred = knn_predict(X_train, y_train, X_test.iloc[i], k=k, distance_func=manhattan_distance)
        y_pred_man.append(pred)
    acc_man = accuracy_score(y_test, y_pred_man)
    manhattan_accuracies.append(acc_man)

    print(f"k = {k} -> Euclidean Accuracy: {acc_euc:.2f} | Manhattan Accuracy: {acc_man:.2f}")
